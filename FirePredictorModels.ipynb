{
 "cells": [
  {
   "cell_type": "code",
   "execution_count": 1,
   "id": "05d8fb95",
   "metadata": {},
   "outputs": [
    {
     "name": "stdout",
     "output_type": "stream",
     "text": [
      "Requirement already satisfied: dtreeviz in /Users/portia/opt/anaconda3/lib/python3.9/site-packages (1.4.1)\n",
      "Requirement already satisfied: matplotlib in /Users/portia/opt/anaconda3/lib/python3.9/site-packages (from dtreeviz) (3.5.1)\n",
      "Requirement already satisfied: pytest in /Users/portia/opt/anaconda3/lib/python3.9/site-packages (from dtreeviz) (6.2.5)\n",
      "Requirement already satisfied: colour in /Users/portia/opt/anaconda3/lib/python3.9/site-packages (from dtreeviz) (0.1.5)\n",
      "Requirement already satisfied: numpy in /Users/portia/opt/anaconda3/lib/python3.9/site-packages (from dtreeviz) (1.21.2)\n",
      "Requirement already satisfied: scikit-learn in /Users/portia/opt/anaconda3/lib/python3.9/site-packages (from dtreeviz) (1.0.2)\n",
      "Requirement already satisfied: graphviz>=0.9 in /Users/portia/opt/anaconda3/lib/python3.9/site-packages (from dtreeviz) (0.20.1)\n",
      "Requirement already satisfied: pandas in /Users/portia/opt/anaconda3/lib/python3.9/site-packages (from dtreeviz) (1.4.1)\n",
      "Requirement already satisfied: pyparsing>=2.2.1 in /Users/portia/opt/anaconda3/lib/python3.9/site-packages (from matplotlib->dtreeviz) (3.0.4)\n",
      "Requirement already satisfied: cycler>=0.10 in /Users/portia/opt/anaconda3/lib/python3.9/site-packages (from matplotlib->dtreeviz) (0.11.0)\n",
      "Requirement already satisfied: pillow>=6.2.0 in /Users/portia/opt/anaconda3/lib/python3.9/site-packages (from matplotlib->dtreeviz) (9.0.1)\n",
      "Requirement already satisfied: kiwisolver>=1.0.1 in /Users/portia/opt/anaconda3/lib/python3.9/site-packages (from matplotlib->dtreeviz) (1.3.2)\n",
      "Requirement already satisfied: fonttools>=4.22.0 in /Users/portia/opt/anaconda3/lib/python3.9/site-packages (from matplotlib->dtreeviz) (4.25.0)\n",
      "Requirement already satisfied: python-dateutil>=2.7 in /Users/portia/opt/anaconda3/lib/python3.9/site-packages (from matplotlib->dtreeviz) (2.8.2)\n",
      "Requirement already satisfied: packaging>=20.0 in /Users/portia/opt/anaconda3/lib/python3.9/site-packages (from matplotlib->dtreeviz) (21.3)\n",
      "Requirement already satisfied: six>=1.5 in /Users/portia/opt/anaconda3/lib/python3.9/site-packages (from python-dateutil>=2.7->matplotlib->dtreeviz) (1.16.0)\n",
      "Requirement already satisfied: pytz>=2020.1 in /Users/portia/opt/anaconda3/lib/python3.9/site-packages (from pandas->dtreeviz) (2021.3)\n",
      "Requirement already satisfied: attrs>=19.2.0 in /Users/portia/opt/anaconda3/lib/python3.9/site-packages (from pytest->dtreeviz) (21.4.0)\n",
      "Requirement already satisfied: iniconfig in /Users/portia/opt/anaconda3/lib/python3.9/site-packages (from pytest->dtreeviz) (1.1.1)\n",
      "Requirement already satisfied: pluggy<2.0,>=0.12 in /Users/portia/opt/anaconda3/lib/python3.9/site-packages (from pytest->dtreeviz) (1.0.0)\n",
      "Requirement already satisfied: py>=1.8.2 in /Users/portia/opt/anaconda3/lib/python3.9/site-packages (from pytest->dtreeviz) (1.11.0)\n",
      "Requirement already satisfied: toml in /Users/portia/opt/anaconda3/lib/python3.9/site-packages (from pytest->dtreeviz) (0.10.2)\n",
      "Requirement already satisfied: joblib>=0.11 in /Users/portia/opt/anaconda3/lib/python3.9/site-packages (from scikit-learn->dtreeviz) (1.1.0)\n",
      "Requirement already satisfied: scipy>=1.1.0 in /Users/portia/opt/anaconda3/lib/python3.9/site-packages (from scikit-learn->dtreeviz) (1.7.3)\n",
      "Requirement already satisfied: threadpoolctl>=2.0.0 in /Users/portia/opt/anaconda3/lib/python3.9/site-packages (from scikit-learn->dtreeviz) (2.2.0)\n",
      "\u001b[33mWARNING: You are using pip version 22.0.3; however, version 22.3.1 is available.\n",
      "You should consider upgrading via the '/Users/portia/opt/anaconda3/bin/python -m pip install --upgrade pip' command.\u001b[0m\n",
      "zsh:1: command not found: apt-get\n"
     ]
    }
   ],
   "source": [
    "!pip install dtreeviz\n",
    "!apt-get install graphviz"
   ]
  },
  {
   "cell_type": "code",
   "execution_count": 2,
   "id": "5d1d5cee",
   "metadata": {},
   "outputs": [],
   "source": [
    "#Import all the required dependencies\n",
    "import os \n",
    "import sys\n",
    "import pandas as pd\n",
    "import numpy as np\n",
    "import geopandas\n",
    "import matplotlib.pyplot as plt\n",
    "import seaborn as sns\n",
    "from sklearn.tree import export_graphviz\n",
    "from io import StringIO \n",
    "from IPython.display import Image  \n",
    "import pydotplus"
   ]
  },
  {
   "cell_type": "code",
   "execution_count": 3,
   "id": "2eca9bf2",
   "metadata": {},
   "outputs": [],
   "source": [
    "#Import Weather Dataset\n",
    "weatherdata = os.path.abspath(os.path.join(os.getcwd(), '../Dataset/PredictorFinalWithoutSTDS.csv'))\n",
    "WeatherData =  pd.read_csv(weatherdata)"
   ]
  },
  {
   "cell_type": "code",
   "execution_count": 4,
   "id": "655da375",
   "metadata": {},
   "outputs": [],
   "source": [
    "WeatherData.drop(['date'], axis = 1, inplace = True)"
   ]
  },
  {
   "cell_type": "code",
   "execution_count": 5,
   "id": "326386eb",
   "metadata": {},
   "outputs": [
    {
     "data": {
      "text/html": [
       "<div>\n",
       "<style scoped>\n",
       "    .dataframe tbody tr th:only-of-type {\n",
       "        vertical-align: middle;\n",
       "    }\n",
       "\n",
       "    .dataframe tbody tr th {\n",
       "        vertical-align: top;\n",
       "    }\n",
       "\n",
       "    .dataframe thead th {\n",
       "        text-align: right;\n",
       "    }\n",
       "</style>\n",
       "<table border=\"1\" class=\"dataframe\">\n",
       "  <thead>\n",
       "    <tr style=\"text-align: right;\">\n",
       "      <th></th>\n",
       "      <th>d2m_mean</th>\n",
       "      <th>t2m_mean</th>\n",
       "      <th>cvh_mean</th>\n",
       "      <th>cvl_mean</th>\n",
       "      <th>ptype_mean</th>\n",
       "      <th>sf_mean</th>\n",
       "      <th>slt_mean</th>\n",
       "      <th>sp_mean</th>\n",
       "      <th>tp_mean</th>\n",
       "      <th>tvh_mean</th>\n",
       "      <th>...</th>\n",
       "      <th>FIRE_CAUSE_Person</th>\n",
       "      <th>FIRE_CAUSE_Unknown</th>\n",
       "      <th>sat_A</th>\n",
       "      <th>sat_T</th>\n",
       "      <th>season_autumn</th>\n",
       "      <th>season_spring</th>\n",
       "      <th>season_summer</th>\n",
       "      <th>weekday_weekday</th>\n",
       "      <th>weekday_weekend</th>\n",
       "      <th>AoB_Category</th>\n",
       "    </tr>\n",
       "  </thead>\n",
       "  <tbody>\n",
       "    <tr>\n",
       "      <th>0</th>\n",
       "      <td>5.535403</td>\n",
       "      <td>6.268164</td>\n",
       "      <td>0.840935</td>\n",
       "      <td>0.057009</td>\n",
       "      <td>1.000046</td>\n",
       "      <td>0.000019</td>\n",
       "      <td>1.999969</td>\n",
       "      <td>99108.095792</td>\n",
       "      <td>0.000737</td>\n",
       "      <td>2.999908</td>\n",
       "      <td>...</td>\n",
       "      <td>1</td>\n",
       "      <td>0</td>\n",
       "      <td>1</td>\n",
       "      <td>0</td>\n",
       "      <td>0</td>\n",
       "      <td>0</td>\n",
       "      <td>1</td>\n",
       "      <td>1</td>\n",
       "      <td>0</td>\n",
       "      <td>4</td>\n",
       "    </tr>\n",
       "    <tr>\n",
       "      <th>1</th>\n",
       "      <td>6.587591</td>\n",
       "      <td>7.625171</td>\n",
       "      <td>0.840935</td>\n",
       "      <td>0.057009</td>\n",
       "      <td>1.000046</td>\n",
       "      <td>0.000000</td>\n",
       "      <td>1.999969</td>\n",
       "      <td>100048.474625</td>\n",
       "      <td>0.000550</td>\n",
       "      <td>2.999908</td>\n",
       "      <td>...</td>\n",
       "      <td>1</td>\n",
       "      <td>0</td>\n",
       "      <td>1</td>\n",
       "      <td>0</td>\n",
       "      <td>0</td>\n",
       "      <td>0</td>\n",
       "      <td>1</td>\n",
       "      <td>1</td>\n",
       "      <td>0</td>\n",
       "      <td>4</td>\n",
       "    </tr>\n",
       "    <tr>\n",
       "      <th>2</th>\n",
       "      <td>4.810455</td>\n",
       "      <td>5.797542</td>\n",
       "      <td>0.840935</td>\n",
       "      <td>0.057009</td>\n",
       "      <td>0.875040</td>\n",
       "      <td>0.000000</td>\n",
       "      <td>1.999969</td>\n",
       "      <td>100995.813583</td>\n",
       "      <td>0.000019</td>\n",
       "      <td>2.999908</td>\n",
       "      <td>...</td>\n",
       "      <td>1</td>\n",
       "      <td>0</td>\n",
       "      <td>1</td>\n",
       "      <td>0</td>\n",
       "      <td>0</td>\n",
       "      <td>0</td>\n",
       "      <td>1</td>\n",
       "      <td>1</td>\n",
       "      <td>0</td>\n",
       "      <td>4</td>\n",
       "    </tr>\n",
       "    <tr>\n",
       "      <th>3</th>\n",
       "      <td>4.906936</td>\n",
       "      <td>5.822573</td>\n",
       "      <td>0.840935</td>\n",
       "      <td>0.057009</td>\n",
       "      <td>1.000046</td>\n",
       "      <td>0.000000</td>\n",
       "      <td>1.999969</td>\n",
       "      <td>100363.031042</td>\n",
       "      <td>0.000829</td>\n",
       "      <td>2.999908</td>\n",
       "      <td>...</td>\n",
       "      <td>1</td>\n",
       "      <td>0</td>\n",
       "      <td>1</td>\n",
       "      <td>0</td>\n",
       "      <td>0</td>\n",
       "      <td>0</td>\n",
       "      <td>1</td>\n",
       "      <td>1</td>\n",
       "      <td>0</td>\n",
       "      <td>4</td>\n",
       "    </tr>\n",
       "    <tr>\n",
       "      <th>4</th>\n",
       "      <td>5.355777</td>\n",
       "      <td>6.168260</td>\n",
       "      <td>0.840935</td>\n",
       "      <td>0.057009</td>\n",
       "      <td>0.916709</td>\n",
       "      <td>0.000000</td>\n",
       "      <td>1.999969</td>\n",
       "      <td>100265.676083</td>\n",
       "      <td>0.000284</td>\n",
       "      <td>2.999908</td>\n",
       "      <td>...</td>\n",
       "      <td>1</td>\n",
       "      <td>0</td>\n",
       "      <td>1</td>\n",
       "      <td>0</td>\n",
       "      <td>0</td>\n",
       "      <td>0</td>\n",
       "      <td>1</td>\n",
       "      <td>1</td>\n",
       "      <td>0</td>\n",
       "      <td>4</td>\n",
       "    </tr>\n",
       "  </tbody>\n",
       "</table>\n",
       "<p>5 rows × 30 columns</p>\n",
       "</div>"
      ],
      "text/plain": [
       "   d2m_mean  t2m_mean  cvh_mean  cvl_mean  ptype_mean   sf_mean  slt_mean  \\\n",
       "0  5.535403  6.268164  0.840935  0.057009    1.000046  0.000019  1.999969   \n",
       "1  6.587591  7.625171  0.840935  0.057009    1.000046  0.000000  1.999969   \n",
       "2  4.810455  5.797542  0.840935  0.057009    0.875040  0.000000  1.999969   \n",
       "3  4.906936  5.822573  0.840935  0.057009    1.000046  0.000000  1.999969   \n",
       "4  5.355777  6.168260  0.840935  0.057009    0.916709  0.000000  1.999969   \n",
       "\n",
       "         sp_mean   tp_mean  tvh_mean  ...  FIRE_CAUSE_Person  \\\n",
       "0   99108.095792  0.000737  2.999908  ...                  1   \n",
       "1  100048.474625  0.000550  2.999908  ...                  1   \n",
       "2  100995.813583  0.000019  2.999908  ...                  1   \n",
       "3  100363.031042  0.000829  2.999908  ...                  1   \n",
       "4  100265.676083  0.000284  2.999908  ...                  1   \n",
       "\n",
       "   FIRE_CAUSE_Unknown  sat_A  sat_T  season_autumn  season_spring  \\\n",
       "0                   0      1      0              0              0   \n",
       "1                   0      1      0              0              0   \n",
       "2                   0      1      0              0              0   \n",
       "3                   0      1      0              0              0   \n",
       "4                   0      1      0              0              0   \n",
       "\n",
       "   season_summer  weekday_weekday  weekday_weekend  AoB_Category  \n",
       "0              1                1                0             4  \n",
       "1              1                1                0             4  \n",
       "2              1                1                0             4  \n",
       "3              1                1                0             4  \n",
       "4              1                1                0             4  \n",
       "\n",
       "[5 rows x 30 columns]"
      ]
     },
     "execution_count": 5,
     "metadata": {},
     "output_type": "execute_result"
    }
   ],
   "source": [
    "WeatherData.head()"
   ]
  },
  {
   "cell_type": "code",
   "execution_count": 6,
   "id": "e73ad16d",
   "metadata": {},
   "outputs": [],
   "source": [
    "WeatherData.rename(columns={'d2m_mean': '2metre_dew_point_mean'\n",
    "                            , 't2m_mean': '2 metre temperature mean', 'chv_mean': 'Convective heating mean',\n",
    "                           'cvl_mean': 'Convective cooling Mean', 'ptype_mean': 'Precipitation type', \n",
    "                           'sf_mean': 'Snowfall Mean', 'tp_mean': 'Total precipitation Mean', \n",
    "                           'tvh_mean': 'Tropospheric vertical velocity Mean','slt_mean': 'Soil temperature Mean'}, inplace=True)"
   ]
  },
  {
   "cell_type": "code",
   "execution_count": 7,
   "id": "e7da57a1",
   "metadata": {},
   "outputs": [
    {
     "data": {
      "text/plain": [
       "Index(['2metre_dew_point_mean', '2 metre temperature mean', 'cvh_mean',\n",
       "       'Convective cooling Mean', 'Precipitation type', 'Snowfall Mean',\n",
       "       'Soil temperature Mean', 'sp_mean', 'Total precipitation Mean',\n",
       "       'Tropospheric vertical velocity Mean', 'wind_speed_mean', 'Total_AoB',\n",
       "       'T21_mean', 'T31_mean', 'sample_mean', 'FRP_mean', 'conf_mean',\n",
       "       'min_dist_to_roads', 'distance_to_firecenter', 'FIRE_CAUSE_Lightning',\n",
       "       'FIRE_CAUSE_Person', 'FIRE_CAUSE_Unknown', 'sat_A', 'sat_T',\n",
       "       'season_autumn', 'season_spring', 'season_summer', 'weekday_weekday',\n",
       "       'weekday_weekend', 'AoB_Category'],\n",
       "      dtype='object')"
      ]
     },
     "execution_count": 7,
     "metadata": {},
     "output_type": "execute_result"
    }
   ],
   "source": [
    "WeatherData.columns"
   ]
  },
  {
   "cell_type": "code",
   "execution_count": 8,
   "id": "e9b37558",
   "metadata": {},
   "outputs": [
    {
     "data": {
      "text/html": [
       "<div>\n",
       "<style scoped>\n",
       "    .dataframe tbody tr th:only-of-type {\n",
       "        vertical-align: middle;\n",
       "    }\n",
       "\n",
       "    .dataframe tbody tr th {\n",
       "        vertical-align: top;\n",
       "    }\n",
       "\n",
       "    .dataframe thead th {\n",
       "        text-align: right;\n",
       "    }\n",
       "</style>\n",
       "<table border=\"1\" class=\"dataframe\">\n",
       "  <thead>\n",
       "    <tr style=\"text-align: right;\">\n",
       "      <th></th>\n",
       "      <th>2metre_dew_point_mean</th>\n",
       "      <th>2 metre temperature mean</th>\n",
       "      <th>cvh_mean</th>\n",
       "      <th>Convective cooling Mean</th>\n",
       "      <th>Precipitation type</th>\n",
       "      <th>Snowfall Mean</th>\n",
       "      <th>Soil temperature Mean</th>\n",
       "      <th>sp_mean</th>\n",
       "      <th>Total precipitation Mean</th>\n",
       "      <th>Tropospheric vertical velocity Mean</th>\n",
       "      <th>...</th>\n",
       "      <th>FIRE_CAUSE_Person</th>\n",
       "      <th>FIRE_CAUSE_Unknown</th>\n",
       "      <th>sat_A</th>\n",
       "      <th>sat_T</th>\n",
       "      <th>season_autumn</th>\n",
       "      <th>season_spring</th>\n",
       "      <th>season_summer</th>\n",
       "      <th>weekday_weekday</th>\n",
       "      <th>weekday_weekend</th>\n",
       "      <th>AoB_Category</th>\n",
       "    </tr>\n",
       "  </thead>\n",
       "  <tbody>\n",
       "    <tr>\n",
       "      <th>0</th>\n",
       "      <td>5.535403</td>\n",
       "      <td>6.268164</td>\n",
       "      <td>0.840935</td>\n",
       "      <td>0.057009</td>\n",
       "      <td>1.000046</td>\n",
       "      <td>0.000019</td>\n",
       "      <td>1.999969</td>\n",
       "      <td>99108.095792</td>\n",
       "      <td>0.000737</td>\n",
       "      <td>2.999908</td>\n",
       "      <td>...</td>\n",
       "      <td>1</td>\n",
       "      <td>0</td>\n",
       "      <td>1</td>\n",
       "      <td>0</td>\n",
       "      <td>0</td>\n",
       "      <td>0</td>\n",
       "      <td>1</td>\n",
       "      <td>1</td>\n",
       "      <td>0</td>\n",
       "      <td>4</td>\n",
       "    </tr>\n",
       "    <tr>\n",
       "      <th>1</th>\n",
       "      <td>6.587591</td>\n",
       "      <td>7.625171</td>\n",
       "      <td>0.840935</td>\n",
       "      <td>0.057009</td>\n",
       "      <td>1.000046</td>\n",
       "      <td>0.000000</td>\n",
       "      <td>1.999969</td>\n",
       "      <td>100048.474625</td>\n",
       "      <td>0.000550</td>\n",
       "      <td>2.999908</td>\n",
       "      <td>...</td>\n",
       "      <td>1</td>\n",
       "      <td>0</td>\n",
       "      <td>1</td>\n",
       "      <td>0</td>\n",
       "      <td>0</td>\n",
       "      <td>0</td>\n",
       "      <td>1</td>\n",
       "      <td>1</td>\n",
       "      <td>0</td>\n",
       "      <td>4</td>\n",
       "    </tr>\n",
       "    <tr>\n",
       "      <th>2</th>\n",
       "      <td>4.810455</td>\n",
       "      <td>5.797542</td>\n",
       "      <td>0.840935</td>\n",
       "      <td>0.057009</td>\n",
       "      <td>0.875040</td>\n",
       "      <td>0.000000</td>\n",
       "      <td>1.999969</td>\n",
       "      <td>100995.813583</td>\n",
       "      <td>0.000019</td>\n",
       "      <td>2.999908</td>\n",
       "      <td>...</td>\n",
       "      <td>1</td>\n",
       "      <td>0</td>\n",
       "      <td>1</td>\n",
       "      <td>0</td>\n",
       "      <td>0</td>\n",
       "      <td>0</td>\n",
       "      <td>1</td>\n",
       "      <td>1</td>\n",
       "      <td>0</td>\n",
       "      <td>4</td>\n",
       "    </tr>\n",
       "    <tr>\n",
       "      <th>3</th>\n",
       "      <td>4.906936</td>\n",
       "      <td>5.822573</td>\n",
       "      <td>0.840935</td>\n",
       "      <td>0.057009</td>\n",
       "      <td>1.000046</td>\n",
       "      <td>0.000000</td>\n",
       "      <td>1.999969</td>\n",
       "      <td>100363.031042</td>\n",
       "      <td>0.000829</td>\n",
       "      <td>2.999908</td>\n",
       "      <td>...</td>\n",
       "      <td>1</td>\n",
       "      <td>0</td>\n",
       "      <td>1</td>\n",
       "      <td>0</td>\n",
       "      <td>0</td>\n",
       "      <td>0</td>\n",
       "      <td>1</td>\n",
       "      <td>1</td>\n",
       "      <td>0</td>\n",
       "      <td>4</td>\n",
       "    </tr>\n",
       "    <tr>\n",
       "      <th>4</th>\n",
       "      <td>5.355777</td>\n",
       "      <td>6.168260</td>\n",
       "      <td>0.840935</td>\n",
       "      <td>0.057009</td>\n",
       "      <td>0.916709</td>\n",
       "      <td>0.000000</td>\n",
       "      <td>1.999969</td>\n",
       "      <td>100265.676083</td>\n",
       "      <td>0.000284</td>\n",
       "      <td>2.999908</td>\n",
       "      <td>...</td>\n",
       "      <td>1</td>\n",
       "      <td>0</td>\n",
       "      <td>1</td>\n",
       "      <td>0</td>\n",
       "      <td>0</td>\n",
       "      <td>0</td>\n",
       "      <td>1</td>\n",
       "      <td>1</td>\n",
       "      <td>0</td>\n",
       "      <td>4</td>\n",
       "    </tr>\n",
       "  </tbody>\n",
       "</table>\n",
       "<p>5 rows × 30 columns</p>\n",
       "</div>"
      ],
      "text/plain": [
       "   2metre_dew_point_mean  2 metre temperature mean  cvh_mean  \\\n",
       "0               5.535403                  6.268164  0.840935   \n",
       "1               6.587591                  7.625171  0.840935   \n",
       "2               4.810455                  5.797542  0.840935   \n",
       "3               4.906936                  5.822573  0.840935   \n",
       "4               5.355777                  6.168260  0.840935   \n",
       "\n",
       "   Convective cooling Mean  Precipitation type  Snowfall Mean  \\\n",
       "0                 0.057009            1.000046       0.000019   \n",
       "1                 0.057009            1.000046       0.000000   \n",
       "2                 0.057009            0.875040       0.000000   \n",
       "3                 0.057009            1.000046       0.000000   \n",
       "4                 0.057009            0.916709       0.000000   \n",
       "\n",
       "   Soil temperature Mean        sp_mean  Total precipitation Mean  \\\n",
       "0               1.999969   99108.095792                  0.000737   \n",
       "1               1.999969  100048.474625                  0.000550   \n",
       "2               1.999969  100995.813583                  0.000019   \n",
       "3               1.999969  100363.031042                  0.000829   \n",
       "4               1.999969  100265.676083                  0.000284   \n",
       "\n",
       "   Tropospheric vertical velocity Mean  ...  FIRE_CAUSE_Person  \\\n",
       "0                             2.999908  ...                  1   \n",
       "1                             2.999908  ...                  1   \n",
       "2                             2.999908  ...                  1   \n",
       "3                             2.999908  ...                  1   \n",
       "4                             2.999908  ...                  1   \n",
       "\n",
       "   FIRE_CAUSE_Unknown  sat_A  sat_T  season_autumn  season_spring  \\\n",
       "0                   0      1      0              0              0   \n",
       "1                   0      1      0              0              0   \n",
       "2                   0      1      0              0              0   \n",
       "3                   0      1      0              0              0   \n",
       "4                   0      1      0              0              0   \n",
       "\n",
       "   season_summer  weekday_weekday  weekday_weekend  AoB_Category  \n",
       "0              1                1                0             4  \n",
       "1              1                1                0             4  \n",
       "2              1                1                0             4  \n",
       "3              1                1                0             4  \n",
       "4              1                1                0             4  \n",
       "\n",
       "[5 rows x 30 columns]"
      ]
     },
     "execution_count": 8,
     "metadata": {},
     "output_type": "execute_result"
    }
   ],
   "source": [
    "WeatherData.head()"
   ]
  },
  {
   "cell_type": "markdown",
   "id": "d0aecd26",
   "metadata": {},
   "source": [
    "### *Note* "
   ]
  },
  {
   "cell_type": "markdown",
   "id": "566d7368",
   "metadata": {},
   "source": [
    "\n",
    "\n",
    "D2M: This stands for dew point temperature, which is the temperature to which air must be cooled in order to reach saturation (e.g. 100% relative humidity).\n",
    "\n",
    "T2M: This stands for temperature at 2 meters, which is the air temperature measured at a height of 2 meters above the ground.\n",
    "\n",
    "CVH: This stands for cloud amount in high clouds.\n",
    "\n",
    "CVL: This stands for cloud amount in low clouds.\n",
    "\n",
    "PTYPE: This stands for precipitation type. It indicates the type of precipitation falling at the time of the measurement (e.g. rain, snow, hail).\n",
    "\n",
    "SF: This stands for snowfall, which is the amount of snowfall in the form of liquid water equivalent.\n",
    "\n",
    "SLT: This stands for surface latent heat flux, which is the amount of energy released as a result of condensation or evaporation at the Earth’s surface.\n",
    "\n",
    "SP: This stands for surface pressure, which is the atmospheric pressure at the Earth’s surface.\n",
    "\n",
    "TP: This stands for total precipitation, which is the amount of precipitation in the form of liquid water equivalent.\n",
    "\n",
    "TVH: This stands for total vertical velocity at 500 hPa, which is the average vertical velocity of air parcels in the atmosphere at 500 hPa (about 5.5 km above the Earth’s surface).\n",
    "\n",
    "T21: This stands for temperature at 21 meters, which is the air temperature measured at a height of 21 meters above the ground.\n",
    "\n",
    "T31: This stands for temperature at 31 meters, which is the air temperature measured at a height of 31 meters above the ground.\n",
    "\n",
    "Sample: This stands for sampling, which is the process of collecting and analyzing data from a subset of a population to draw conclusions about the entire population.\n",
    "\n",
    "FRP: This stands for fire radiative power, which is the total amount of energy released by a fire in the form of radiation."
   ]
  },
  {
   "cell_type": "code",
   "execution_count": 9,
   "id": "bbf75459",
   "metadata": {},
   "outputs": [],
   "source": [
    "# Calculate the correlation values\n",
    "feature_cols = WeatherData.columns[:-1]\n",
    "corr_values = WeatherData[feature_cols].corr()\n",
    "\n",
    "# Simplify by emptying all the data below the diagonal\n",
    "tril_index = np.tril_indices_from(corr_values)\n",
    "\n",
    "# Make the unused values NaNs\n",
    "for coord in zip(*tril_index):\n",
    "    corr_values.iloc[coord[0], coord[1]] = np.NaN\n",
    "    \n",
    "# Stack the data and convert to a data frame\n",
    "corr_values = (corr_values\n",
    "               .stack()\n",
    "               .to_frame()\n",
    "               .reset_index()\n",
    "               .rename(columns={'level_0':'feature1',\n",
    "                                'level_1':'feature2',\n",
    "                                0:'correlation'}))\n",
    "\n",
    "# Get the absolute values for sorting\n",
    "corr_values['abs_correlation'] = corr_values.correlation.abs()"
   ]
  },
  {
   "cell_type": "code",
   "execution_count": 10,
   "id": "64e37ad2",
   "metadata": {},
   "outputs": [
    {
     "data": {
      "text/plain": [
       "Index(['2metre_dew_point_mean', '2 metre temperature mean', 'cvh_mean',\n",
       "       'Convective cooling Mean', 'Precipitation type', 'Snowfall Mean',\n",
       "       'Soil temperature Mean', 'sp_mean', 'Total precipitation Mean',\n",
       "       'Tropospheric vertical velocity Mean', 'wind_speed_mean', 'Total_AoB',\n",
       "       'T21_mean', 'T31_mean', 'sample_mean', 'FRP_mean', 'conf_mean',\n",
       "       'min_dist_to_roads', 'distance_to_firecenter', 'FIRE_CAUSE_Lightning',\n",
       "       'FIRE_CAUSE_Person', 'FIRE_CAUSE_Unknown', 'sat_A', 'sat_T',\n",
       "       'season_autumn', 'season_spring', 'season_summer', 'weekday_weekday',\n",
       "       'weekday_weekend'],\n",
       "      dtype='object')"
      ]
     },
     "execution_count": 10,
     "metadata": {},
     "output_type": "execute_result"
    }
   ],
   "source": [
    "feature_cols"
   ]
  },
  {
   "cell_type": "code",
   "execution_count": 11,
   "id": "8fabdb32",
   "metadata": {},
   "outputs": [
    {
     "data": {
      "text/html": [
       "<div>\n",
       "<style scoped>\n",
       "    .dataframe tbody tr th:only-of-type {\n",
       "        vertical-align: middle;\n",
       "    }\n",
       "\n",
       "    .dataframe tbody tr th {\n",
       "        vertical-align: top;\n",
       "    }\n",
       "\n",
       "    .dataframe thead th {\n",
       "        text-align: right;\n",
       "    }\n",
       "</style>\n",
       "<table border=\"1\" class=\"dataframe\">\n",
       "  <thead>\n",
       "    <tr style=\"text-align: right;\">\n",
       "      <th></th>\n",
       "      <th>feature1</th>\n",
       "      <th>feature2</th>\n",
       "      <th>correlation</th>\n",
       "      <th>abs_correlation</th>\n",
       "    </tr>\n",
       "  </thead>\n",
       "  <tbody>\n",
       "    <tr>\n",
       "      <th>0</th>\n",
       "      <td>2metre_dew_point_mean</td>\n",
       "      <td>2 metre temperature mean</td>\n",
       "      <td>0.976565</td>\n",
       "      <td>0.976565</td>\n",
       "    </tr>\n",
       "    <tr>\n",
       "      <th>1</th>\n",
       "      <td>2metre_dew_point_mean</td>\n",
       "      <td>cvh_mean</td>\n",
       "      <td>-0.115935</td>\n",
       "      <td>0.115935</td>\n",
       "    </tr>\n",
       "    <tr>\n",
       "      <th>2</th>\n",
       "      <td>2metre_dew_point_mean</td>\n",
       "      <td>Convective cooling Mean</td>\n",
       "      <td>0.088495</td>\n",
       "      <td>0.088495</td>\n",
       "    </tr>\n",
       "    <tr>\n",
       "      <th>3</th>\n",
       "      <td>2metre_dew_point_mean</td>\n",
       "      <td>Precipitation type</td>\n",
       "      <td>0.011742</td>\n",
       "      <td>0.011742</td>\n",
       "    </tr>\n",
       "    <tr>\n",
       "      <th>4</th>\n",
       "      <td>2metre_dew_point_mean</td>\n",
       "      <td>Snowfall Mean</td>\n",
       "      <td>0.190483</td>\n",
       "      <td>0.190483</td>\n",
       "    </tr>\n",
       "    <tr>\n",
       "      <th>...</th>\n",
       "      <td>...</td>\n",
       "      <td>...</td>\n",
       "      <td>...</td>\n",
       "      <td>...</td>\n",
       "    </tr>\n",
       "    <tr>\n",
       "      <th>401</th>\n",
       "      <td>season_spring</td>\n",
       "      <td>weekday_weekday</td>\n",
       "      <td>0.096801</td>\n",
       "      <td>0.096801</td>\n",
       "    </tr>\n",
       "    <tr>\n",
       "      <th>402</th>\n",
       "      <td>season_spring</td>\n",
       "      <td>weekday_weekend</td>\n",
       "      <td>-0.096801</td>\n",
       "      <td>0.096801</td>\n",
       "    </tr>\n",
       "    <tr>\n",
       "      <th>403</th>\n",
       "      <td>season_summer</td>\n",
       "      <td>weekday_weekday</td>\n",
       "      <td>-0.002314</td>\n",
       "      <td>0.002314</td>\n",
       "    </tr>\n",
       "    <tr>\n",
       "      <th>404</th>\n",
       "      <td>season_summer</td>\n",
       "      <td>weekday_weekend</td>\n",
       "      <td>0.002314</td>\n",
       "      <td>0.002314</td>\n",
       "    </tr>\n",
       "    <tr>\n",
       "      <th>405</th>\n",
       "      <td>weekday_weekday</td>\n",
       "      <td>weekday_weekend</td>\n",
       "      <td>-1.000000</td>\n",
       "      <td>1.000000</td>\n",
       "    </tr>\n",
       "  </tbody>\n",
       "</table>\n",
       "<p>406 rows × 4 columns</p>\n",
       "</div>"
      ],
      "text/plain": [
       "                  feature1                  feature2  correlation  \\\n",
       "0    2metre_dew_point_mean  2 metre temperature mean     0.976565   \n",
       "1    2metre_dew_point_mean                  cvh_mean    -0.115935   \n",
       "2    2metre_dew_point_mean   Convective cooling Mean     0.088495   \n",
       "3    2metre_dew_point_mean        Precipitation type     0.011742   \n",
       "4    2metre_dew_point_mean             Snowfall Mean     0.190483   \n",
       "..                     ...                       ...          ...   \n",
       "401          season_spring           weekday_weekday     0.096801   \n",
       "402          season_spring           weekday_weekend    -0.096801   \n",
       "403          season_summer           weekday_weekday    -0.002314   \n",
       "404          season_summer           weekday_weekend     0.002314   \n",
       "405        weekday_weekday           weekday_weekend    -1.000000   \n",
       "\n",
       "     abs_correlation  \n",
       "0           0.976565  \n",
       "1           0.115935  \n",
       "2           0.088495  \n",
       "3           0.011742  \n",
       "4           0.190483  \n",
       "..               ...  \n",
       "401         0.096801  \n",
       "402         0.096801  \n",
       "403         0.002314  \n",
       "404         0.002314  \n",
       "405         1.000000  \n",
       "\n",
       "[406 rows x 4 columns]"
      ]
     },
     "execution_count": 11,
     "metadata": {},
     "output_type": "execute_result"
    }
   ],
   "source": [
    "corr_values"
   ]
  },
  {
   "cell_type": "code",
   "execution_count": 12,
   "id": "cbc288f7",
   "metadata": {},
   "outputs": [
    {
     "data": {
      "image/png": "[encoded data removed]",
      "text/plain": [
       "<Figure size 864x576 with 1 Axes>"
      ]
     },
     "metadata": {},
     "output_type": "display_data"
    }
   ],
   "source": [
    "sns.set_context('talk')\n",
    "sns.set_style('white')\n",
    "\n",
    "ax = corr_values.abs_correlation.hist(bins=50, figsize=(12, 8))\n",
    "ax.set(xlabel='Absolute Correlation', ylabel='Frequency');"
   ]
  },
  {
   "cell_type": "code",
   "execution_count": 13,
   "id": "d39f20d1",
   "metadata": {},
   "outputs": [],
   "source": [
    "from sklearn.pipeline import Pipeline\n",
    "from sklearn.model_selection import train_test_split\n",
    "from sklearn.preprocessing import StandardScaler\n",
    "from sklearn.model_selection import RandomizedSearchCV\n",
    "from sklearn.linear_model import LogisticRegression\n",
    "from sklearn.svm import SVC\n",
    "from sklearn.tree import DecisionTreeClassifier\n",
    "from sklearn.neighbors import KNeighborsClassifier\n",
    "from sklearn import svm\n",
    "from sklearn.metrics import confusion_matrix,classification_report\n",
    "from sklearn.metrics import log_loss"
   ]
  },
  {
   "cell_type": "code",
   "execution_count": 14,
   "id": "3d8a62b1",
   "metadata": {},
   "outputs": [],
   "source": [
    "X = WeatherData.drop('AoB_Category', axis = 1)\n",
    "y = WeatherData['AoB_Category']\n",
    "X_train, X_test, y_train, y_test = train_test_split( X, y, test_size=0.3, random_state=42)"
   ]
  },
  {
   "cell_type": "code",
   "execution_count": 15,
   "id": "5fa4b9f1",
   "metadata": {},
   "outputs": [],
   "source": [
    "# from sklearn.model_selection import StratifiedShuffleSplit\n",
    "\n",
    "# # Get the split indexes\n",
    "# strat_shuf_split = StratifiedShuffleSplit(n_splits=1, \n",
    "#                                           test_size=0.3, \n",
    "#                                           random_state=42)\n",
    "\n",
    "# train_idx, test_idx = next(strat_shuf_split.split(WeatherData[feature_cols], WeatherData.AoB_Category))\n",
    "\n",
    "# # Create the dataframes\n",
    "# X_train = WeatherData.loc[train_idx, feature_cols]\n",
    "# y_train = WeatherData.loc[train_idx, 'AoB_Category']\n",
    "\n",
    "# X_test  = WeatherData.loc[test_idx, feature_cols]\n",
    "# y_test  = WeatherData.loc[test_idx, 'AoB_Category']"
   ]
  },
  {
   "cell_type": "code",
   "execution_count": 16,
   "id": "596301fd",
   "metadata": {},
   "outputs": [
    {
     "data": {
      "text/plain": [
       "0    0.040515\n",
       "1    0.286090\n",
       "2    0.190351\n",
       "3    0.008201\n",
       "4    0.474842\n",
       "Name: AoB_Category, dtype: float64"
      ]
     },
     "execution_count": 16,
     "metadata": {},
     "output_type": "execute_result"
    }
   ],
   "source": [
    "y_train.value_counts(normalize=True).sort_index()"
   ]
  },
  {
   "cell_type": "code",
   "execution_count": 17,
   "id": "b56c0a0f",
   "metadata": {},
   "outputs": [
    {
     "data": {
      "text/plain": [
       "0    0.041519\n",
       "1    0.284837\n",
       "2    0.195304\n",
       "3    0.008075\n",
       "4    0.470266\n",
       "Name: AoB_Category, dtype: float64"
      ]
     },
     "execution_count": 17,
     "metadata": {},
     "output_type": "execute_result"
    }
   ],
   "source": [
    "y_test.value_counts(normalize = True).sort_index()"
   ]
  },
  {
   "cell_type": "code",
   "execution_count": 18,
   "id": "01c6ab5c",
   "metadata": {},
   "outputs": [
    {
     "data": {
      "text/plain": [
       "4    35960\n",
       "1    21700\n",
       "2    14570\n",
       "0     3100\n",
       "3      620\n",
       "Name: AoB_Category, dtype: int64"
      ]
     },
     "execution_count": 18,
     "metadata": {},
     "output_type": "execute_result"
    }
   ],
   "source": [
    "WeatherData.AoB_Category.value_counts()"
   ]
  },
  {
   "cell_type": "markdown",
   "id": "a7ed8ed5",
   "metadata": {},
   "source": [
    "#### K-Nearest "
   ]
  },
  {
   "cell_type": "code",
   "execution_count": 19,
   "id": "56e95bf2",
   "metadata": {},
   "outputs": [
    {
     "name": "stdout",
     "output_type": "stream",
     "text": [
      "Fitting 3 folds for each of 2 candidates, totalling 6 fits\n",
      "[CV] END ..knn__algorithm=auto, knn__n_neighbors=5, knn__p=1; total time=  23.4s\n",
      "[CV] END ..knn__algorithm=auto, knn__n_neighbors=5, knn__p=1; total time=  23.8s\n",
      "[CV] END ..knn__algorithm=auto, knn__n_neighbors=5, knn__p=1; total time=  23.5s\n",
      "[CV] END ..knn__algorithm=auto, knn__n_neighbors=5, knn__p=2; total time=  12.0s\n",
      "[CV] END ..knn__algorithm=auto, knn__n_neighbors=5, knn__p=2; total time=  12.4s\n",
      "[CV] END ..knn__algorithm=auto, knn__n_neighbors=5, knn__p=2; total time=  12.4s\n"
     ]
    }
   ],
   "source": [
    "pipe_knn = Pipeline(steps=[\n",
    "    (\"scaler\", StandardScaler()), \n",
    "    (\"knn\", KNeighborsClassifier())\n",
    "])\n",
    "\n",
    "params_knn = {\n",
    "    'knn__n_neighbors':range(5, 10, 5), \n",
    "    'knn__algorithm':['auto'], \n",
    "    'knn__p':[1, 2]\n",
    "}\n",
    "\n",
    "search_knn = RandomizedSearchCV(pipe_knn, params_knn, scoring='accuracy', cv=3, refit=True, n_iter=2, verbose = 2)\n",
    "\n",
    "search_knn.fit(X_train, y_train)\n",
    "y_hat_knn = search_knn.predict(X_test)\n"
   ]
  },
  {
   "cell_type": "code",
   "execution_count": 20,
   "id": "26a8d050",
   "metadata": {},
   "outputs": [
    {
     "data": {
      "text/plain": [
       "{'knn__p': 1, 'knn__n_neighbors': 5, 'knn__algorithm': 'auto'}"
      ]
     },
     "metadata": {},
     "output_type": "display_data"
    },
    {
     "data": {
      "text/plain": [
       "0.9975547805108512"
      ]
     },
     "metadata": {},
     "output_type": "display_data"
    }
   ],
   "source": [
    "display(search_knn.best_params_)\n",
    "display(search_knn.best_score_)"
   ]
  },
  {
   "cell_type": "code",
   "execution_count": 21,
   "id": "b795bd80-0dca-4fb4-b7b0-f4d5fdf04fe6",
   "metadata": {},
   "outputs": [],
   "source": [
    "from sklearn.metrics import accuracy_score, precision_score, recall_score, f1_score\n",
    "\n",
    "def measure_error(y_true, y_pred, label):\n",
    "    return pd.Series({'accuracy':accuracy_score(y_true, y_pred),\n",
    "                      'precision': precision_score(y_true, y_pred, average='micro'),\n",
    "                      'recall': recall_score(y_true, y_pred, average='micro'),\n",
    "                      'f1': f1_score(y_true, y_pred, average='micro')},\n",
    "                      name=label)"
   ]
  },
  {
   "cell_type": "code",
   "execution_count": 22,
   "id": "df5db096",
   "metadata": {},
   "outputs": [
    {
     "data": {
      "text/html": [
       "<div>\n",
       "<style scoped>\n",
       "    .dataframe tbody tr th:only-of-type {\n",
       "        vertical-align: middle;\n",
       "    }\n",
       "\n",
       "    .dataframe tbody tr th {\n",
       "        vertical-align: top;\n",
       "    }\n",
       "\n",
       "    .dataframe thead th {\n",
       "        text-align: right;\n",
       "    }\n",
       "</style>\n",
       "<table border=\"1\" class=\"dataframe\">\n",
       "  <thead>\n",
       "    <tr style=\"text-align: right;\">\n",
       "      <th></th>\n",
       "      <th>train</th>\n",
       "      <th>test</th>\n",
       "    </tr>\n",
       "  </thead>\n",
       "  <tbody>\n",
       "    <tr>\n",
       "      <th>accuracy</th>\n",
       "      <td>0.998683</td>\n",
       "      <td>0.997849</td>\n",
       "    </tr>\n",
       "    <tr>\n",
       "      <th>precision</th>\n",
       "      <td>0.998683</td>\n",
       "      <td>0.997849</td>\n",
       "    </tr>\n",
       "    <tr>\n",
       "      <th>recall</th>\n",
       "      <td>0.998683</td>\n",
       "      <td>0.997849</td>\n",
       "    </tr>\n",
       "    <tr>\n",
       "      <th>f1</th>\n",
       "      <td>0.998683</td>\n",
       "      <td>0.997849</td>\n",
       "    </tr>\n",
       "  </tbody>\n",
       "</table>\n",
       "</div>"
      ],
      "text/plain": [
       "              train      test\n",
       "accuracy   0.998683  0.997849\n",
       "precision  0.998683  0.997849\n",
       "recall     0.998683  0.997849\n",
       "f1         0.998683  0.997849"
      ]
     },
     "execution_count": 22,
     "metadata": {},
     "output_type": "execute_result"
    }
   ],
   "source": [
    "\n",
    "y_train_pred = search_knn.predict(X_train)\n",
    "y_test_pred = search_knn.predict(X_test)\n",
    "\n",
    "train_test_full_error = pd.concat([measure_error(y_train, y_train_pred, 'train'),\n",
    "                              measure_error(y_test, y_test_pred, 'test')],\n",
    "                              axis=1)\n",
    "\n",
    "train_test_full_error"
   ]
  },
  {
   "cell_type": "markdown",
   "id": "5298203e",
   "metadata": {},
   "source": [
    "#### Decision Tree"
   ]
  },
  {
   "cell_type": "code",
   "execution_count": 23,
   "id": "be13ef5e",
   "metadata": {},
   "outputs": [
    {
     "data": {
      "text/plain": [
       "DecisionTreeClassifier(max_depth=2, random_state=42)"
      ]
     },
     "execution_count": 23,
     "metadata": {},
     "output_type": "execute_result"
    }
   ],
   "source": [
    "\n",
    "tree_clf = DecisionTreeClassifier(max_depth=2, random_state = 42)\n",
    "tree_clf.fit(X_train,y_train)\n"
   ]
  },
  {
   "cell_type": "code",
   "execution_count": 24,
   "id": "39ab8330",
   "metadata": {},
   "outputs": [
    {
     "data": {
      "text/html": [
       "<div>\n",
       "<style scoped>\n",
       "    .dataframe tbody tr th:only-of-type {\n",
       "        vertical-align: middle;\n",
       "    }\n",
       "\n",
       "    .dataframe tbody tr th {\n",
       "        vertical-align: top;\n",
       "    }\n",
       "\n",
       "    .dataframe thead th {\n",
       "        text-align: right;\n",
       "    }\n",
       "</style>\n",
       "<table border=\"1\" class=\"dataframe\">\n",
       "  <thead>\n",
       "    <tr style=\"text-align: right;\">\n",
       "      <th></th>\n",
       "      <th>train</th>\n",
       "      <th>test</th>\n",
       "    </tr>\n",
       "  </thead>\n",
       "  <tbody>\n",
       "    <tr>\n",
       "      <th>accuracy</th>\n",
       "      <td>0.951284</td>\n",
       "      <td>0.950406</td>\n",
       "    </tr>\n",
       "    <tr>\n",
       "      <th>precision</th>\n",
       "      <td>0.951284</td>\n",
       "      <td>0.950406</td>\n",
       "    </tr>\n",
       "    <tr>\n",
       "      <th>recall</th>\n",
       "      <td>0.951284</td>\n",
       "      <td>0.950406</td>\n",
       "    </tr>\n",
       "    <tr>\n",
       "      <th>f1</th>\n",
       "      <td>0.951284</td>\n",
       "      <td>0.950406</td>\n",
       "    </tr>\n",
       "  </tbody>\n",
       "</table>\n",
       "</div>"
      ],
      "text/plain": [
       "              train      test\n",
       "accuracy   0.951284  0.950406\n",
       "precision  0.951284  0.950406\n",
       "recall     0.951284  0.950406\n",
       "f1         0.951284  0.950406"
      ]
     },
     "execution_count": 24,
     "metadata": {},
     "output_type": "execute_result"
    }
   ],
   "source": [
    "\n",
    "y_train_pred = tree_clf.predict(X_train)\n",
    "y_test_pred = tree_clf.predict(X_test)\n",
    "\n",
    "train_test_full_error = pd.concat([measure_error(y_train, y_train_pred, 'train'),\n",
    "                              measure_error(y_test, y_test_pred, 'test')],\n",
    "                              axis=1)\n",
    "\n",
    "train_test_full_error"
   ]
  },
  {
   "cell_type": "markdown",
   "id": "3c60cc50",
   "metadata": {},
   "source": [
    "#### Random Forest"
   ]
  },
  {
   "cell_type": "code",
   "execution_count": 25,
   "id": "5baa2755",
   "metadata": {},
   "outputs": [
    {
     "data": {
      "text/plain": [
       "RandomForestClassifier(max_depth=2, random_state=42)"
      ]
     },
     "execution_count": 25,
     "metadata": {},
     "output_type": "execute_result"
    }
   ],
   "source": [
    "from sklearn.ensemble import RandomForestClassifier\n",
    "rand_clf = RandomForestClassifier(max_depth = 2, random_state = 42)\n",
    "rand_clf.fit(X_train, y_train)"
   ]
  },
  {
   "cell_type": "code",
   "execution_count": 26,
   "id": "794281fb",
   "metadata": {},
   "outputs": [
    {
     "data": {
      "text/plain": [
       "0.8204520517884574"
      ]
     },
     "execution_count": 26,
     "metadata": {},
     "output_type": "execute_result"
    }
   ],
   "source": [
    "from sklearn.metrics import accuracy_score\n",
    "y_pred = rand_clf.predict(X_test)\n",
    "accuracy_score(y_test, y_pred)"
   ]
  },
  {
   "cell_type": "code",
   "execution_count": 27,
   "id": "70698434",
   "metadata": {},
   "outputs": [
    {
     "data": {
      "text/html": [
       "<div>\n",
       "<style scoped>\n",
       "    .dataframe tbody tr th:only-of-type {\n",
       "        vertical-align: middle;\n",
       "    }\n",
       "\n",
       "    .dataframe tbody tr th {\n",
       "        vertical-align: top;\n",
       "    }\n",
       "\n",
       "    .dataframe thead th {\n",
       "        text-align: right;\n",
       "    }\n",
       "</style>\n",
       "<table border=\"1\" class=\"dataframe\">\n",
       "  <thead>\n",
       "    <tr style=\"text-align: right;\">\n",
       "      <th></th>\n",
       "      <th>train</th>\n",
       "      <th>test</th>\n",
       "    </tr>\n",
       "  </thead>\n",
       "  <tbody>\n",
       "    <tr>\n",
       "      <th>accuracy</th>\n",
       "      <td>0.831205</td>\n",
       "      <td>0.820452</td>\n",
       "    </tr>\n",
       "    <tr>\n",
       "      <th>precision</th>\n",
       "      <td>0.831205</td>\n",
       "      <td>0.820452</td>\n",
       "    </tr>\n",
       "    <tr>\n",
       "      <th>recall</th>\n",
       "      <td>0.831205</td>\n",
       "      <td>0.820452</td>\n",
       "    </tr>\n",
       "    <tr>\n",
       "      <th>f1</th>\n",
       "      <td>0.831205</td>\n",
       "      <td>0.820452</td>\n",
       "    </tr>\n",
       "  </tbody>\n",
       "</table>\n",
       "</div>"
      ],
      "text/plain": [
       "              train      test\n",
       "accuracy   0.831205  0.820452\n",
       "precision  0.831205  0.820452\n",
       "recall     0.831205  0.820452\n",
       "f1         0.831205  0.820452"
      ]
     },
     "execution_count": 27,
     "metadata": {},
     "output_type": "execute_result"
    }
   ],
   "source": [
    "# The error on the training and test data sets\n",
    "y_train_pred = rand_clf.predict(X_train)\n",
    "y_test_pred = rand_clf.predict(X_test)\n",
    "\n",
    "train_test_full_error = pd.concat([measure_error(y_train, y_train_pred, 'train'),\n",
    "                              measure_error(y_test, y_test_pred, 'test')],\n",
    "                              axis=1)\n",
    "\n",
    "train_test_full_error\n"
   ]
  },
  {
   "cell_type": "markdown",
   "id": "ff3e37b7",
   "metadata": {},
   "source": [
    "Theres a high chance of overfitting "
   ]
  },
  {
   "cell_type": "code",
   "execution_count": 28,
   "id": "93b2bed0",
   "metadata": {},
   "outputs": [
    {
     "data": {
      "text/plain": [
       "array([3.70197159e-03, 2.48991630e-03, 3.96912260e-02, 7.79389818e-02,\n",
       "       0.00000000e+00, 0.00000000e+00, 3.81861033e-02, 6.06605847e-02,\n",
       "       1.16829650e-03, 5.84057880e-04, 0.00000000e+00, 2.86362804e-01,\n",
       "       5.76604979e-02, 4.26677740e-02, 9.54569935e-03, 1.49638325e-01,\n",
       "       2.25324938e-02, 5.42983076e-02, 1.22475365e-01, 5.94197172e-03,\n",
       "       6.38093263e-04, 1.75915196e-04, 0.00000000e+00, 2.08307148e-04,\n",
       "       2.46179374e-03, 1.75316759e-02, 2.49472835e-03, 9.45109514e-04,\n",
       "       0.00000000e+00])"
      ]
     },
     "execution_count": 28,
     "metadata": {},
     "output_type": "execute_result"
    }
   ],
   "source": [
    "rand_clf.feature_importances_"
   ]
  },
  {
   "cell_type": "code",
   "execution_count": 29,
   "id": "7800f206",
   "metadata": {},
   "outputs": [
    {
     "data": {
      "image/png": "[encoded data removed]",
      "text/plain": [
       "<Figure size 1152x432 with 1 Axes>"
      ]
     },
     "metadata": {},
     "output_type": "display_data"
    }
   ],
   "source": [
    "feature_col = WeatherData.columns[:-1]\n",
    "feature_imp = pd.Series(rand_clf.feature_importances_, index=feature_col).sort_values(ascending=False)\n",
    "\n",
    "ax = feature_imp.plot(kind='bar', figsize=(16, 6))\n",
    "ax.set(ylabel='Relative Importance');\n",
    "ax.set(ylabel='Feature');"
   ]
  },
  {
   "cell_type": "markdown",
   "id": "d207681f",
   "metadata": {},
   "source": [
    "Make sense that total area burn amd fire radiation power and distance to fire is the most important in fire category predictions"
   ]
  },
  {
   "cell_type": "markdown",
   "id": "0ee0fb05",
   "metadata": {},
   "source": [
    "Feels like this a data leakage somewhere beacause total area burnt"
   ]
  },
  {
   "cell_type": "code",
   "execution_count": 30,
   "id": "b3383534",
   "metadata": {},
   "outputs": [],
   "source": [
    "#Funtion to create each column feature importance and sort it\n",
    "def imp_df(column_names, importances):\n",
    "    df = pd.DataFrame({\"feature\": column_names, \"feature_importance\": importances})\n",
    "    df.sort_values(\"feature_importance\", ascending = False, inplace = True)\n",
    "    df.reset_index(drop = True, inplace = True)\n",
    "    return df"
   ]
  },
  {
   "cell_type": "code",
   "execution_count": 31,
   "id": "aafc91f9",
   "metadata": {},
   "outputs": [],
   "source": [
    "from sklearn.base import clone \n",
    "\n",
    "def drop_col_feat_imp(model, X_train, y_train, random_state = 42):\n",
    "    \n",
    "    # clone the model to have the exact same specification as the one initially trained\n",
    "    model_clone = clone(model)\n",
    "    # set random_state for comparability\n",
    "    model_clone.random_state = random_state\n",
    "    # training and scoring the benchmark model\n",
    "    model_clone.fit(X_train, y_train)\n",
    "    benchmark_score = model_clone.score(X_train, y_train)\n",
    "    # list for storing feature importances\n",
    "    importances = []\n",
    "    \n",
    "    # iterating over all columns and storing feature importance (difference between benchmark and new model)\n",
    "    for col in X_train.columns:\n",
    "        model_clone = clone(model)\n",
    "        model_clone.random_state = random_state\n",
    "        model_clone.fit(X_train.drop(col, axis = 1), y_train)\n",
    "        drop_col_score = model_clone.score(X_train.drop(col, axis = 1), y_train)\n",
    "        importances.append(benchmark_score - drop_col_score)\n",
    "    \n",
    "    importances_df = imp_df(X_train.columns, importances)\n",
    "    return importances_df"
   ]
  },
  {
   "cell_type": "code",
   "execution_count": 32,
   "id": "393a547a",
   "metadata": {},
   "outputs": [
    {
     "data": {
      "text/html": [
       "<div>\n",
       "<style scoped>\n",
       "    .dataframe tbody tr th:only-of-type {\n",
       "        vertical-align: middle;\n",
       "    }\n",
       "\n",
       "    .dataframe tbody tr th {\n",
       "        vertical-align: top;\n",
       "    }\n",
       "\n",
       "    .dataframe thead th {\n",
       "        text-align: right;\n",
       "    }\n",
       "</style>\n",
       "<table border=\"1\" class=\"dataframe\">\n",
       "  <thead>\n",
       "    <tr style=\"text-align: right;\">\n",
       "      <th></th>\n",
       "      <th>feature</th>\n",
       "      <th>feature_importance</th>\n",
       "    </tr>\n",
       "  </thead>\n",
       "  <tbody>\n",
       "    <tr>\n",
       "      <th>0</th>\n",
       "      <td>Total_AoB</td>\n",
       "      <td>0.278604</td>\n",
       "    </tr>\n",
       "    <tr>\n",
       "      <th>1</th>\n",
       "      <td>T21_mean</td>\n",
       "      <td>-0.015066</td>\n",
       "    </tr>\n",
       "    <tr>\n",
       "      <th>2</th>\n",
       "      <td>Tropospheric vertical velocity Mean</td>\n",
       "      <td>-0.016834</td>\n",
       "    </tr>\n",
       "    <tr>\n",
       "      <th>3</th>\n",
       "      <td>FRP_mean</td>\n",
       "      <td>-0.018057</td>\n",
       "    </tr>\n",
       "    <tr>\n",
       "      <th>4</th>\n",
       "      <td>Total precipitation Mean</td>\n",
       "      <td>-0.020408</td>\n",
       "    </tr>\n",
       "    <tr>\n",
       "      <th>5</th>\n",
       "      <td>wind_speed_mean</td>\n",
       "      <td>-0.020408</td>\n",
       "    </tr>\n",
       "    <tr>\n",
       "      <th>6</th>\n",
       "      <td>cvh_mean</td>\n",
       "      <td>-0.020747</td>\n",
       "    </tr>\n",
       "    <tr>\n",
       "      <th>7</th>\n",
       "      <td>Convective cooling Mean</td>\n",
       "      <td>-0.020747</td>\n",
       "    </tr>\n",
       "    <tr>\n",
       "      <th>8</th>\n",
       "      <td>Soil temperature Mean</td>\n",
       "      <td>-0.020747</td>\n",
       "    </tr>\n",
       "    <tr>\n",
       "      <th>9</th>\n",
       "      <td>sp_mean</td>\n",
       "      <td>-0.020747</td>\n",
       "    </tr>\n",
       "    <tr>\n",
       "      <th>10</th>\n",
       "      <td>2metre_dew_point_mean</td>\n",
       "      <td>-0.020822</td>\n",
       "    </tr>\n",
       "    <tr>\n",
       "      <th>11</th>\n",
       "      <td>Precipitation type</td>\n",
       "      <td>-0.020822</td>\n",
       "    </tr>\n",
       "    <tr>\n",
       "      <th>12</th>\n",
       "      <td>Snowfall Mean</td>\n",
       "      <td>-0.020822</td>\n",
       "    </tr>\n",
       "    <tr>\n",
       "      <th>13</th>\n",
       "      <td>2 metre temperature mean</td>\n",
       "      <td>-0.020822</td>\n",
       "    </tr>\n",
       "    <tr>\n",
       "      <th>14</th>\n",
       "      <td>min_dist_to_roads</td>\n",
       "      <td>-0.026427</td>\n",
       "    </tr>\n",
       "    <tr>\n",
       "      <th>15</th>\n",
       "      <td>conf_mean</td>\n",
       "      <td>-0.028515</td>\n",
       "    </tr>\n",
       "    <tr>\n",
       "      <th>16</th>\n",
       "      <td>sample_mean</td>\n",
       "      <td>-0.031054</td>\n",
       "    </tr>\n",
       "    <tr>\n",
       "      <th>17</th>\n",
       "      <td>FIRE_CAUSE_Lightning</td>\n",
       "      <td>-0.036321</td>\n",
       "    </tr>\n",
       "    <tr>\n",
       "      <th>18</th>\n",
       "      <td>FIRE_CAUSE_Unknown</td>\n",
       "      <td>-0.036321</td>\n",
       "    </tr>\n",
       "    <tr>\n",
       "      <th>19</th>\n",
       "      <td>sat_A</td>\n",
       "      <td>-0.036321</td>\n",
       "    </tr>\n",
       "    <tr>\n",
       "      <th>20</th>\n",
       "      <td>sat_T</td>\n",
       "      <td>-0.036321</td>\n",
       "    </tr>\n",
       "    <tr>\n",
       "      <th>21</th>\n",
       "      <td>season_autumn</td>\n",
       "      <td>-0.036321</td>\n",
       "    </tr>\n",
       "    <tr>\n",
       "      <th>22</th>\n",
       "      <td>FIRE_CAUSE_Person</td>\n",
       "      <td>-0.036359</td>\n",
       "    </tr>\n",
       "    <tr>\n",
       "      <th>23</th>\n",
       "      <td>season_summer</td>\n",
       "      <td>-0.037205</td>\n",
       "    </tr>\n",
       "    <tr>\n",
       "      <th>24</th>\n",
       "      <td>weekday_weekday</td>\n",
       "      <td>-0.037205</td>\n",
       "    </tr>\n",
       "    <tr>\n",
       "      <th>25</th>\n",
       "      <td>weekday_weekend</td>\n",
       "      <td>-0.037205</td>\n",
       "    </tr>\n",
       "    <tr>\n",
       "      <th>26</th>\n",
       "      <td>season_spring</td>\n",
       "      <td>-0.041249</td>\n",
       "    </tr>\n",
       "    <tr>\n",
       "      <th>27</th>\n",
       "      <td>T31_mean</td>\n",
       "      <td>-0.041418</td>\n",
       "    </tr>\n",
       "    <tr>\n",
       "      <th>28</th>\n",
       "      <td>distance_to_firecenter</td>\n",
       "      <td>-0.045462</td>\n",
       "    </tr>\n",
       "  </tbody>\n",
       "</table>\n",
       "</div>"
      ],
      "text/plain": [
       "                                feature  feature_importance\n",
       "0                             Total_AoB            0.278604\n",
       "1                              T21_mean           -0.015066\n",
       "2   Tropospheric vertical velocity Mean           -0.016834\n",
       "3                              FRP_mean           -0.018057\n",
       "4              Total precipitation Mean           -0.020408\n",
       "5                       wind_speed_mean           -0.020408\n",
       "6                              cvh_mean           -0.020747\n",
       "7               Convective cooling Mean           -0.020747\n",
       "8                 Soil temperature Mean           -0.020747\n",
       "9                               sp_mean           -0.020747\n",
       "10                2metre_dew_point_mean           -0.020822\n",
       "11                   Precipitation type           -0.020822\n",
       "12                        Snowfall Mean           -0.020822\n",
       "13             2 metre temperature mean           -0.020822\n",
       "14                    min_dist_to_roads           -0.026427\n",
       "15                            conf_mean           -0.028515\n",
       "16                          sample_mean           -0.031054\n",
       "17                 FIRE_CAUSE_Lightning           -0.036321\n",
       "18                   FIRE_CAUSE_Unknown           -0.036321\n",
       "19                                sat_A           -0.036321\n",
       "20                                sat_T           -0.036321\n",
       "21                        season_autumn           -0.036321\n",
       "22                    FIRE_CAUSE_Person           -0.036359\n",
       "23                        season_summer           -0.037205\n",
       "24                      weekday_weekday           -0.037205\n",
       "25                      weekday_weekend           -0.037205\n",
       "26                        season_spring           -0.041249\n",
       "27                             T31_mean           -0.041418\n",
       "28               distance_to_firecenter           -0.045462"
      ]
     },
     "execution_count": 32,
     "metadata": {},
     "output_type": "execute_result"
    }
   ],
   "source": [
    "drop_col_feat_imp(rand_clf, X_train, y_train)"
   ]
  },
  {
   "cell_type": "code",
   "execution_count": 33,
   "id": "c7b641d6",
   "metadata": {},
   "outputs": [
    {
     "data": {
      "text/plain": [
       "<AxesSubplot:>"
      ]
     },
     "execution_count": 33,
     "metadata": {},
     "output_type": "execute_result"
    },
    {
     "data": {
      "image/png": "[encoded data removed]",
      "text/plain": [
       "<Figure size 1440x1440 with 2 Axes>"
      ]
     },
     "metadata": {},
     "output_type": "display_data"
    }
   ],
   "source": [
    "sns.set(rc={'figure.figsize':(20,20)})\n",
    "sns.heatmap(confusion_matrix(y_test, rand_clf.predict(X_test)), annot = True)"
   ]
  },
  {
   "cell_type": "code",
   "execution_count": 47,
   "id": "ab729e3e",
   "metadata": {},
   "outputs": [
    {
     "name": "stdout",
     "output_type": "stream",
     "text": [
      "{'criterion': 'gini', 'max_depth': 7, 'min_samples_split': 4, 'n_estimators': 100}\n"
     ]
    }
   ],
   "source": [
    "from sklearn.model_selection import GridSearchCV\n",
    "\n",
    "# Initialize the model \n",
    "clf = RandomForestClassifier(n_estimators=100, criterion='entropy', max_depth=5, min_samples_split=2)\n",
    "\n",
    "# Define the parameter grid\n",
    "param_grid = {\n",
    "    'n_estimators': [50, 100, 150],\n",
    "    'criterion': ['gini', 'entropy'],\n",
    "    'max_depth': [2,3, 5, 7],\n",
    "    'min_samples_split': [2, 4, 6]\n",
    "}\n",
    "\n",
    "# Create the GridSearchCV object\n",
    "grid_search = GridSearchCV(clf, param_grid, cv=5, scoring='accuracy')\n",
    "\n",
    "# Fit the GridSearchCV object with the training data\n",
    "grid_search.fit(X_train, y_train)\n",
    "\n",
    "# Print the best parameters from the grid search\n",
    "print(grid_search.best_params_)"
   ]
  },
  {
   "cell_type": "code",
   "execution_count": 35,
   "id": "918a4f5a",
   "metadata": {},
   "outputs": [],
   "source": [
    "grid_predictions = grid_search.predict(X_test)"
   ]
  },
  {
   "cell_type": "markdown",
   "id": "e51a5a9c",
   "metadata": {},
   "source": [
    "print(classification_report(y_test, grid_predictions)) "
   ]
  },
  {
   "cell_type": "code",
   "execution_count": 36,
   "id": "ac725504",
   "metadata": {},
   "outputs": [
    {
     "data": {
      "text/plain": [
       "Index(['2metre_dew_point_mean', '2 metre temperature mean', 'cvh_mean',\n",
       "       'Convective cooling Mean', 'Precipitation type', 'Snowfall Mean',\n",
       "       'Soil temperature Mean', 'sp_mean', 'Total precipitation Mean',\n",
       "       'Tropospheric vertical velocity Mean', 'wind_speed_mean', 'Total_AoB',\n",
       "       'T21_mean', 'T31_mean', 'sample_mean', 'FRP_mean', 'conf_mean',\n",
       "       'min_dist_to_roads', 'distance_to_firecenter', 'FIRE_CAUSE_Lightning',\n",
       "       'FIRE_CAUSE_Person', 'FIRE_CAUSE_Unknown', 'sat_A', 'sat_T',\n",
       "       'season_autumn', 'season_spring', 'season_summer', 'weekday_weekday',\n",
       "       'weekday_weekend'],\n",
       "      dtype='object')"
      ]
     },
     "execution_count": 36,
     "metadata": {},
     "output_type": "execute_result"
    }
   ],
   "source": [
    "X_train.columns"
   ]
  },
  {
   "cell_type": "markdown",
   "id": "4a370bfa",
   "metadata": {},
   "source": [
    "Random forest is overfitting so i will try and fit it on bagging "
   ]
  },
  {
   "cell_type": "code",
   "execution_count": 37,
   "id": "6276c985",
   "metadata": {},
   "outputs": [
    {
     "data": {
      "text/plain": [
       "1.0"
      ]
     },
     "execution_count": 37,
     "metadata": {},
     "output_type": "execute_result"
    }
   ],
   "source": [
    "from sklearn.metrics import accuracy_score\n",
    "y_pred = grid_search.predict(X_test)\n",
    "accuracy_score(y_test, y_pred)"
   ]
  },
  {
   "cell_type": "code",
   "execution_count": 38,
   "id": "6f976822",
   "metadata": {},
   "outputs": [
    {
     "name": "stdout",
     "output_type": "stream",
     "text": [
      "[[  946     0     0     0     0]\n",
      " [    0  6490     0     0     0]\n",
      " [    0     0  4450     0     0]\n",
      " [    0     0     0   184     0]\n",
      " [    0     0     0     0 10715]]\n"
     ]
    },
    {
     "data": {
      "image/png": "[encoded data removed]",
      "text/plain": [
       "<Figure size 1440x1440 with 2 Axes>"
      ]
     },
     "metadata": {},
     "output_type": "display_data"
    }
   ],
   "source": [
    "print(confusion_matrix(y_test, grid_search.predict(X_test)))\n",
    "sns.set(rc={'figure.figsize':(20,20)})\n",
    "sns.heatmap(confusion_matrix(y_test, grid_search.predict(X_test)), annot = True)\n",
    "plt.show()"
   ]
  },
  {
   "cell_type": "code",
   "execution_count": 39,
   "id": "084bd191",
   "metadata": {},
   "outputs": [
    {
     "data": {
      "text/plain": [
       "1.0"
      ]
     },
     "execution_count": 39,
     "metadata": {},
     "output_type": "execute_result"
    }
   ],
   "source": [
    "from sklearn.model_selection import cross_val_score\n",
    "rf_score = cross_val_score(grid_search, X_train, y_train)\n",
    "rf_score.mean()"
   ]
  },
  {
   "cell_type": "code",
   "execution_count": 40,
   "id": "52daffbc",
   "metadata": {},
   "outputs": [
    {
     "data": {
      "text/html": [
       "<div>\n",
       "<style scoped>\n",
       "    .dataframe tbody tr th:only-of-type {\n",
       "        vertical-align: middle;\n",
       "    }\n",
       "\n",
       "    .dataframe tbody tr th {\n",
       "        vertical-align: top;\n",
       "    }\n",
       "\n",
       "    .dataframe thead th {\n",
       "        text-align: right;\n",
       "    }\n",
       "</style>\n",
       "<table border=\"1\" class=\"dataframe\">\n",
       "  <thead>\n",
       "    <tr style=\"text-align: right;\">\n",
       "      <th></th>\n",
       "      <th>2metre_dew_point_mean</th>\n",
       "      <th>2 metre temperature mean</th>\n",
       "      <th>cvh_mean</th>\n",
       "      <th>Convective cooling Mean</th>\n",
       "      <th>Precipitation type</th>\n",
       "      <th>Snowfall Mean</th>\n",
       "      <th>Soil temperature Mean</th>\n",
       "      <th>sp_mean</th>\n",
       "      <th>Total precipitation Mean</th>\n",
       "      <th>Tropospheric vertical velocity Mean</th>\n",
       "      <th>...</th>\n",
       "      <th>FIRE_CAUSE_Person</th>\n",
       "      <th>FIRE_CAUSE_Unknown</th>\n",
       "      <th>sat_A</th>\n",
       "      <th>sat_T</th>\n",
       "      <th>season_autumn</th>\n",
       "      <th>season_spring</th>\n",
       "      <th>season_summer</th>\n",
       "      <th>weekday_weekday</th>\n",
       "      <th>weekday_weekend</th>\n",
       "      <th>AoB_Category</th>\n",
       "    </tr>\n",
       "  </thead>\n",
       "  <tbody>\n",
       "    <tr>\n",
       "      <th>0</th>\n",
       "      <td>5.535403</td>\n",
       "      <td>6.268164</td>\n",
       "      <td>0.840935</td>\n",
       "      <td>0.057009</td>\n",
       "      <td>1.000046</td>\n",
       "      <td>0.000019</td>\n",
       "      <td>1.999969</td>\n",
       "      <td>99108.095792</td>\n",
       "      <td>0.000737</td>\n",
       "      <td>2.999908</td>\n",
       "      <td>...</td>\n",
       "      <td>1</td>\n",
       "      <td>0</td>\n",
       "      <td>1</td>\n",
       "      <td>0</td>\n",
       "      <td>0</td>\n",
       "      <td>0</td>\n",
       "      <td>1</td>\n",
       "      <td>1</td>\n",
       "      <td>0</td>\n",
       "      <td>4</td>\n",
       "    </tr>\n",
       "    <tr>\n",
       "      <th>1</th>\n",
       "      <td>6.587591</td>\n",
       "      <td>7.625171</td>\n",
       "      <td>0.840935</td>\n",
       "      <td>0.057009</td>\n",
       "      <td>1.000046</td>\n",
       "      <td>0.000000</td>\n",
       "      <td>1.999969</td>\n",
       "      <td>100048.474625</td>\n",
       "      <td>0.000550</td>\n",
       "      <td>2.999908</td>\n",
       "      <td>...</td>\n",
       "      <td>1</td>\n",
       "      <td>0</td>\n",
       "      <td>1</td>\n",
       "      <td>0</td>\n",
       "      <td>0</td>\n",
       "      <td>0</td>\n",
       "      <td>1</td>\n",
       "      <td>1</td>\n",
       "      <td>0</td>\n",
       "      <td>4</td>\n",
       "    </tr>\n",
       "    <tr>\n",
       "      <th>2</th>\n",
       "      <td>4.810455</td>\n",
       "      <td>5.797542</td>\n",
       "      <td>0.840935</td>\n",
       "      <td>0.057009</td>\n",
       "      <td>0.875040</td>\n",
       "      <td>0.000000</td>\n",
       "      <td>1.999969</td>\n",
       "      <td>100995.813583</td>\n",
       "      <td>0.000019</td>\n",
       "      <td>2.999908</td>\n",
       "      <td>...</td>\n",
       "      <td>1</td>\n",
       "      <td>0</td>\n",
       "      <td>1</td>\n",
       "      <td>0</td>\n",
       "      <td>0</td>\n",
       "      <td>0</td>\n",
       "      <td>1</td>\n",
       "      <td>1</td>\n",
       "      <td>0</td>\n",
       "      <td>4</td>\n",
       "    </tr>\n",
       "    <tr>\n",
       "      <th>3</th>\n",
       "      <td>4.906936</td>\n",
       "      <td>5.822573</td>\n",
       "      <td>0.840935</td>\n",
       "      <td>0.057009</td>\n",
       "      <td>1.000046</td>\n",
       "      <td>0.000000</td>\n",
       "      <td>1.999969</td>\n",
       "      <td>100363.031042</td>\n",
       "      <td>0.000829</td>\n",
       "      <td>2.999908</td>\n",
       "      <td>...</td>\n",
       "      <td>1</td>\n",
       "      <td>0</td>\n",
       "      <td>1</td>\n",
       "      <td>0</td>\n",
       "      <td>0</td>\n",
       "      <td>0</td>\n",
       "      <td>1</td>\n",
       "      <td>1</td>\n",
       "      <td>0</td>\n",
       "      <td>4</td>\n",
       "    </tr>\n",
       "    <tr>\n",
       "      <th>4</th>\n",
       "      <td>5.355777</td>\n",
       "      <td>6.168260</td>\n",
       "      <td>0.840935</td>\n",
       "      <td>0.057009</td>\n",
       "      <td>0.916709</td>\n",
       "      <td>0.000000</td>\n",
       "      <td>1.999969</td>\n",
       "      <td>100265.676083</td>\n",
       "      <td>0.000284</td>\n",
       "      <td>2.999908</td>\n",
       "      <td>...</td>\n",
       "      <td>1</td>\n",
       "      <td>0</td>\n",
       "      <td>1</td>\n",
       "      <td>0</td>\n",
       "      <td>0</td>\n",
       "      <td>0</td>\n",
       "      <td>1</td>\n",
       "      <td>1</td>\n",
       "      <td>0</td>\n",
       "      <td>4</td>\n",
       "    </tr>\n",
       "  </tbody>\n",
       "</table>\n",
       "<p>5 rows × 30 columns</p>\n",
       "</div>"
      ],
      "text/plain": [
       "   2metre_dew_point_mean  2 metre temperature mean  cvh_mean  \\\n",
       "0               5.535403                  6.268164  0.840935   \n",
       "1               6.587591                  7.625171  0.840935   \n",
       "2               4.810455                  5.797542  0.840935   \n",
       "3               4.906936                  5.822573  0.840935   \n",
       "4               5.355777                  6.168260  0.840935   \n",
       "\n",
       "   Convective cooling Mean  Precipitation type  Snowfall Mean  \\\n",
       "0                 0.057009            1.000046       0.000019   \n",
       "1                 0.057009            1.000046       0.000000   \n",
       "2                 0.057009            0.875040       0.000000   \n",
       "3                 0.057009            1.000046       0.000000   \n",
       "4                 0.057009            0.916709       0.000000   \n",
       "\n",
       "   Soil temperature Mean        sp_mean  Total precipitation Mean  \\\n",
       "0               1.999969   99108.095792                  0.000737   \n",
       "1               1.999969  100048.474625                  0.000550   \n",
       "2               1.999969  100995.813583                  0.000019   \n",
       "3               1.999969  100363.031042                  0.000829   \n",
       "4               1.999969  100265.676083                  0.000284   \n",
       "\n",
       "   Tropospheric vertical velocity Mean  ...  FIRE_CAUSE_Person  \\\n",
       "0                             2.999908  ...                  1   \n",
       "1                             2.999908  ...                  1   \n",
       "2                             2.999908  ...                  1   \n",
       "3                             2.999908  ...                  1   \n",
       "4                             2.999908  ...                  1   \n",
       "\n",
       "   FIRE_CAUSE_Unknown  sat_A  sat_T  season_autumn  season_spring  \\\n",
       "0                   0      1      0              0              0   \n",
       "1                   0      1      0              0              0   \n",
       "2                   0      1      0              0              0   \n",
       "3                   0      1      0              0              0   \n",
       "4                   0      1      0              0              0   \n",
       "\n",
       "   season_summer  weekday_weekday  weekday_weekend  AoB_Category  \n",
       "0              1                1                0             4  \n",
       "1              1                1                0             4  \n",
       "2              1                1                0             4  \n",
       "3              1                1                0             4  \n",
       "4              1                1                0             4  \n",
       "\n",
       "[5 rows x 30 columns]"
      ]
     },
     "execution_count": 40,
     "metadata": {},
     "output_type": "execute_result"
    }
   ],
   "source": [
    "WeatherData.head()"
   ]
  },
  {
   "cell_type": "code",
   "execution_count": 41,
   "id": "caa520ae",
   "metadata": {},
   "outputs": [],
   "source": [
    "from sklearn.ensemble import BaggingClassifier\n",
    "\n",
    "# Create base estimator\n",
    "dt = DecisionTreeClassifier(max_depth=2)\n",
    "\n",
    "# Create bagging classifier\n",
    "bag_clf = BaggingClassifier(base_estimator=dt, n_estimators=7, \n",
    "                            max_samples=0.2, bootstrap=True, \n",
    "                            random_state=42, n_jobs=-1)\n",
    "\n",
    "# Fit and predict\n",
    "bag_clf.fit(X_train, y_train)\n",
    "y_pred = bag_clf.predict(X_test)"
   ]
  },
  {
   "cell_type": "code",
   "execution_count": 42,
   "id": "88b3aa0c",
   "metadata": {},
   "outputs": [
    {
     "data": {
      "text/html": [
       "<div>\n",
       "<style scoped>\n",
       "    .dataframe tbody tr th:only-of-type {\n",
       "        vertical-align: middle;\n",
       "    }\n",
       "\n",
       "    .dataframe tbody tr th {\n",
       "        vertical-align: top;\n",
       "    }\n",
       "\n",
       "    .dataframe thead th {\n",
       "        text-align: right;\n",
       "    }\n",
       "</style>\n",
       "<table border=\"1\" class=\"dataframe\">\n",
       "  <thead>\n",
       "    <tr style=\"text-align: right;\">\n",
       "      <th></th>\n",
       "      <th>train</th>\n",
       "      <th>test</th>\n",
       "    </tr>\n",
       "  </thead>\n",
       "  <tbody>\n",
       "    <tr>\n",
       "      <th>accuracy</th>\n",
       "      <td>0.951284</td>\n",
       "      <td>0.950406</td>\n",
       "    </tr>\n",
       "    <tr>\n",
       "      <th>precision</th>\n",
       "      <td>0.951284</td>\n",
       "      <td>0.950406</td>\n",
       "    </tr>\n",
       "    <tr>\n",
       "      <th>recall</th>\n",
       "      <td>0.951284</td>\n",
       "      <td>0.950406</td>\n",
       "    </tr>\n",
       "    <tr>\n",
       "      <th>f1</th>\n",
       "      <td>0.951284</td>\n",
       "      <td>0.950406</td>\n",
       "    </tr>\n",
       "  </tbody>\n",
       "</table>\n",
       "</div>"
      ],
      "text/plain": [
       "              train      test\n",
       "accuracy   0.951284  0.950406\n",
       "precision  0.951284  0.950406\n",
       "recall     0.951284  0.950406\n",
       "f1         0.951284  0.950406"
      ]
     },
     "execution_count": 42,
     "metadata": {},
     "output_type": "execute_result"
    }
   ],
   "source": [
    "# The error on the training and test data sets\n",
    "y_train_pred = bag_clf.predict(X_train)\n",
    "y_test_pred = bag_clf.predict(X_test)\n",
    "\n",
    "train_test_full_error = pd.concat([measure_error(y_train, y_train_pred, 'train'),\n",
    "                              measure_error(y_test, y_test_pred, 'test')],\n",
    "                              axis=1)\n",
    "\n",
    "train_test_full_error"
   ]
  },
  {
   "cell_type": "markdown",
   "id": "18d84cd4",
   "metadata": {},
   "source": [
    "Boosting"
   ]
  },
  {
   "cell_type": "code",
   "execution_count": 48,
   "id": "8c4a443d",
   "metadata": {},
   "outputs": [],
   "source": [
    "\n",
    "from sklearn.ensemble import GradientBoostingClassifier\n",
    "\n",
    "# Create boosting classifier\n",
    "gb_clf = GradientBoostingClassifier(n_estimators=3, learning_rate=00.1, \n",
    "                                    max_depth=2, random_state=42)\n",
    "\n",
    "# Fit and predict\n",
    "gb_clf.fit(X_train, y_train)\n",
    "y_pred = gb_clf.predict(X_test)"
   ]
  },
  {
   "cell_type": "code",
   "execution_count": 49,
   "id": "15f496af",
   "metadata": {},
   "outputs": [
    {
     "data": {
      "text/html": [
       "<div>\n",
       "<style scoped>\n",
       "    .dataframe tbody tr th:only-of-type {\n",
       "        vertical-align: middle;\n",
       "    }\n",
       "\n",
       "    .dataframe tbody tr th {\n",
       "        vertical-align: top;\n",
       "    }\n",
       "\n",
       "    .dataframe thead th {\n",
       "        text-align: right;\n",
       "    }\n",
       "</style>\n",
       "<table border=\"1\" class=\"dataframe\">\n",
       "  <thead>\n",
       "    <tr style=\"text-align: right;\">\n",
       "      <th></th>\n",
       "      <th>train</th>\n",
       "      <th>test</th>\n",
       "    </tr>\n",
       "  </thead>\n",
       "  <tbody>\n",
       "    <tr>\n",
       "      <th>accuracy</th>\n",
       "      <td>1.0</td>\n",
       "      <td>1.0</td>\n",
       "    </tr>\n",
       "    <tr>\n",
       "      <th>precision</th>\n",
       "      <td>1.0</td>\n",
       "      <td>1.0</td>\n",
       "    </tr>\n",
       "    <tr>\n",
       "      <th>recall</th>\n",
       "      <td>1.0</td>\n",
       "      <td>1.0</td>\n",
       "    </tr>\n",
       "    <tr>\n",
       "      <th>f1</th>\n",
       "      <td>1.0</td>\n",
       "      <td>1.0</td>\n",
       "    </tr>\n",
       "  </tbody>\n",
       "</table>\n",
       "</div>"
      ],
      "text/plain": [
       "           train  test\n",
       "accuracy     1.0   1.0\n",
       "precision    1.0   1.0\n",
       "recall       1.0   1.0\n",
       "f1           1.0   1.0"
      ]
     },
     "execution_count": 49,
     "metadata": {},
     "output_type": "execute_result"
    }
   ],
   "source": [
    "# The error on the training and test data sets\n",
    "y_train_pred = gb_clf.predict(X_train)\n",
    "y_test_pred = gb_clf.predict(X_test)\n",
    "\n",
    "train_test_full_error = pd.concat([measure_error(y_train, y_train_pred, 'train'),\n",
    "                              measure_error(y_test, y_test_pred, 'test')],\n",
    "                              axis=1)\n",
    "\n",
    "train_test_full_error"
   ]
  },
  {
   "cell_type": "code",
   "execution_count": null,
   "id": "50ee21b8",
   "metadata": {},
   "outputs": [],
   "source": []
  }
 ],
 "metadata": {
  "kernelspec": {
   "display_name": "Python 3 (ipykernel)",
   "language": "python",
   "name": "python3"
  },
  "language_info": {
   "codemirror_mode": {
    "name": "ipython",
    "version": 3
   },
   "file_extension": ".py",
   "mimetype": "text/x-python",
   "name": "python",
   "nbconvert_exporter": "python",
   "pygments_lexer": "ipython3",
   "version": "3.9.7"
  }
 },
 "nbformat": 4,
 "nbformat_minor": 5
}
